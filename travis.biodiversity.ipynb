{
 "cells": [
  {
   "cell_type": "markdown",
   "metadata": {},
   "source": [
    "# Project Overview\n",
    "\n",
    "For this project, I interpreted data from the National Parks Service about endangered species in different parks.\n",
    "\n",
    "The data was provided by Codecademy as part of the Data Scientist: Data Analytics Specialist Career Path as a Portfolio Project at the end of the Data Scientsit Foundations portion of the course. I performed some data analysis on the conservation statuses of these species and investigated if there are any patterns or themes to the types of species that become endangered. During this project, I analyzed, cleaned up, and plotted data as well as posed questions and sought to answer them in a meaningful way.\n",
    "\n",
    "# Project Objectives\n",
    "\n",
    "- Complete a project to add to your portfolio\n",
    "- Use Jupyter Notebook to communicate findings\n",
    "- Run an analysis on a set of data\n",
    "- Become familiar with data analysis workflow"
   ]
  },
  {
   "cell_type": "markdown",
   "metadata": {},
   "source": [
    "# About the Data\n",
    "\n",
    "Codecademy provided two CSV files with information about biodiversity in the National Parks. Information about those files is below:\n",
    "\n",
    "- species_info.csv - contains data about different species and their conservation status\n",
    "- observations.csv - holds recorded sightings of different species at several national parks for the past 7 days.\n",
    "\n",
    "The files have the following columns:\n",
    "\n",
    "species_info.csv:\n",
    "- category - class of animal\n",
    "- scientific_name - the scientific name of each species\n",
    "- common_name - the common names of each species\n",
    "- conservation_status - each species’ current conservation status\n",
    "\n",
    "observations.csv:\n",
    "- scientific_name - the scientific name of each species\n",
    "- park_name - Park where species were found\n",
    "- observations - the number of times each species was observed at park"
   ]
  },
  {
   "cell_type": "code",
   "execution_count": 103,
   "metadata": {},
   "outputs": [],
   "source": [
    "# load libraries that will be helpful in exploring and analyzing the data\n",
    "import pandas as pd\n",
    "import numpy as np\n",
    "import seaborn as sns\n",
    "import statsmodels\n",
    "import matplotlib.pyplot as plt\n",
    "import math\n",
    "from scipy.stats import chi2_contingency\n"
   ]
  },
  {
   "cell_type": "code",
   "execution_count": 10,
   "metadata": {},
   "outputs": [
    {
     "data": {
      "text/html": [
       "<div>\n",
       "<style scoped>\n",
       "    .dataframe tbody tr th:only-of-type {\n",
       "        vertical-align: middle;\n",
       "    }\n",
       "\n",
       "    .dataframe tbody tr th {\n",
       "        vertical-align: top;\n",
       "    }\n",
       "\n",
       "    .dataframe thead th {\n",
       "        text-align: right;\n",
       "    }\n",
       "</style>\n",
       "<table border=\"1\" class=\"dataframe\">\n",
       "  <thead>\n",
       "    <tr style=\"text-align: right;\">\n",
       "      <th></th>\n",
       "      <th>scientific_name</th>\n",
       "      <th>park_name</th>\n",
       "      <th>observations</th>\n",
       "    </tr>\n",
       "  </thead>\n",
       "  <tbody>\n",
       "    <tr>\n",
       "      <th>0</th>\n",
       "      <td>Vicia benghalensis</td>\n",
       "      <td>Great Smoky Mountains National Park</td>\n",
       "      <td>68</td>\n",
       "    </tr>\n",
       "    <tr>\n",
       "      <th>1</th>\n",
       "      <td>Neovison vison</td>\n",
       "      <td>Great Smoky Mountains National Park</td>\n",
       "      <td>77</td>\n",
       "    </tr>\n",
       "    <tr>\n",
       "      <th>2</th>\n",
       "      <td>Prunus subcordata</td>\n",
       "      <td>Yosemite National Park</td>\n",
       "      <td>138</td>\n",
       "    </tr>\n",
       "    <tr>\n",
       "      <th>3</th>\n",
       "      <td>Abutilon theophrasti</td>\n",
       "      <td>Bryce National Park</td>\n",
       "      <td>84</td>\n",
       "    </tr>\n",
       "    <tr>\n",
       "      <th>4</th>\n",
       "      <td>Githopsis specularioides</td>\n",
       "      <td>Great Smoky Mountains National Park</td>\n",
       "      <td>85</td>\n",
       "    </tr>\n",
       "  </tbody>\n",
       "</table>\n",
       "</div>"
      ],
      "text/plain": [
       "            scientific_name                            park_name  observations\n",
       "0        Vicia benghalensis  Great Smoky Mountains National Park            68\n",
       "1            Neovison vison  Great Smoky Mountains National Park            77\n",
       "2         Prunus subcordata               Yosemite National Park           138\n",
       "3      Abutilon theophrasti                  Bryce National Park            84\n",
       "4  Githopsis specularioides  Great Smoky Mountains National Park            85"
      ]
     },
     "execution_count": 10,
     "metadata": {},
     "output_type": "execute_result"
    }
   ],
   "source": [
    "## Save CSV files as pandas dfs and view first five rows\n",
    "observations = pd.read_csv(\"observations.csv\")\n",
    "\n",
    "observations.head()"
   ]
  },
  {
   "cell_type": "code",
   "execution_count": 11,
   "metadata": {},
   "outputs": [
    {
     "data": {
      "text/html": [
       "<div>\n",
       "<style scoped>\n",
       "    .dataframe tbody tr th:only-of-type {\n",
       "        vertical-align: middle;\n",
       "    }\n",
       "\n",
       "    .dataframe tbody tr th {\n",
       "        vertical-align: top;\n",
       "    }\n",
       "\n",
       "    .dataframe thead th {\n",
       "        text-align: right;\n",
       "    }\n",
       "</style>\n",
       "<table border=\"1\" class=\"dataframe\">\n",
       "  <thead>\n",
       "    <tr style=\"text-align: right;\">\n",
       "      <th></th>\n",
       "      <th>category</th>\n",
       "      <th>scientific_name</th>\n",
       "      <th>common_names</th>\n",
       "      <th>conservation_status</th>\n",
       "    </tr>\n",
       "  </thead>\n",
       "  <tbody>\n",
       "    <tr>\n",
       "      <th>0</th>\n",
       "      <td>Mammal</td>\n",
       "      <td>Clethrionomys gapperi gapperi</td>\n",
       "      <td>Gapper's Red-Backed Vole</td>\n",
       "      <td>NaN</td>\n",
       "    </tr>\n",
       "    <tr>\n",
       "      <th>1</th>\n",
       "      <td>Mammal</td>\n",
       "      <td>Bos bison</td>\n",
       "      <td>American Bison, Bison</td>\n",
       "      <td>NaN</td>\n",
       "    </tr>\n",
       "    <tr>\n",
       "      <th>2</th>\n",
       "      <td>Mammal</td>\n",
       "      <td>Bos taurus</td>\n",
       "      <td>Aurochs, Aurochs, Domestic Cattle (Feral), Dom...</td>\n",
       "      <td>NaN</td>\n",
       "    </tr>\n",
       "    <tr>\n",
       "      <th>3</th>\n",
       "      <td>Mammal</td>\n",
       "      <td>Ovis aries</td>\n",
       "      <td>Domestic Sheep, Mouflon, Red Sheep, Sheep (Feral)</td>\n",
       "      <td>NaN</td>\n",
       "    </tr>\n",
       "    <tr>\n",
       "      <th>4</th>\n",
       "      <td>Mammal</td>\n",
       "      <td>Cervus elaphus</td>\n",
       "      <td>Wapiti Or Elk</td>\n",
       "      <td>NaN</td>\n",
       "    </tr>\n",
       "  </tbody>\n",
       "</table>\n",
       "</div>"
      ],
      "text/plain": [
       "  category                scientific_name  \\\n",
       "0   Mammal  Clethrionomys gapperi gapperi   \n",
       "1   Mammal                      Bos bison   \n",
       "2   Mammal                     Bos taurus   \n",
       "3   Mammal                     Ovis aries   \n",
       "4   Mammal                 Cervus elaphus   \n",
       "\n",
       "                                        common_names conservation_status  \n",
       "0                           Gapper's Red-Backed Vole                 NaN  \n",
       "1                              American Bison, Bison                 NaN  \n",
       "2  Aurochs, Aurochs, Domestic Cattle (Feral), Dom...                 NaN  \n",
       "3  Domestic Sheep, Mouflon, Red Sheep, Sheep (Feral)                 NaN  \n",
       "4                                      Wapiti Or Elk                 NaN  "
      ]
     },
     "execution_count": 11,
     "metadata": {},
     "output_type": "execute_result"
    }
   ],
   "source": [
    "## Save CSV files as pandas dfs and view first five rows\n",
    "species_info = pd.read_csv(\"species_info.csv\")\n",
    "\n",
    "species_info.head()"
   ]
  },
  {
   "cell_type": "code",
   "execution_count": 15,
   "metadata": {},
   "outputs": [
    {
     "data": {
      "text/html": [
       "<div>\n",
       "<style scoped>\n",
       "    .dataframe tbody tr th:only-of-type {\n",
       "        vertical-align: middle;\n",
       "    }\n",
       "\n",
       "    .dataframe tbody tr th {\n",
       "        vertical-align: top;\n",
       "    }\n",
       "\n",
       "    .dataframe thead th {\n",
       "        text-align: right;\n",
       "    }\n",
       "</style>\n",
       "<table border=\"1\" class=\"dataframe\">\n",
       "  <thead>\n",
       "    <tr style=\"text-align: right;\">\n",
       "      <th></th>\n",
       "      <th>scientific_name</th>\n",
       "      <th>park_name</th>\n",
       "      <th>observations</th>\n",
       "    </tr>\n",
       "  </thead>\n",
       "  <tbody>\n",
       "    <tr>\n",
       "      <th>count</th>\n",
       "      <td>23296</td>\n",
       "      <td>23296</td>\n",
       "      <td>23296.000000</td>\n",
       "    </tr>\n",
       "    <tr>\n",
       "      <th>unique</th>\n",
       "      <td>5541</td>\n",
       "      <td>4</td>\n",
       "      <td>NaN</td>\n",
       "    </tr>\n",
       "    <tr>\n",
       "      <th>top</th>\n",
       "      <td>Myotis lucifugus</td>\n",
       "      <td>Great Smoky Mountains National Park</td>\n",
       "      <td>NaN</td>\n",
       "    </tr>\n",
       "    <tr>\n",
       "      <th>freq</th>\n",
       "      <td>12</td>\n",
       "      <td>5824</td>\n",
       "      <td>NaN</td>\n",
       "    </tr>\n",
       "    <tr>\n",
       "      <th>mean</th>\n",
       "      <td>NaN</td>\n",
       "      <td>NaN</td>\n",
       "      <td>142.287904</td>\n",
       "    </tr>\n",
       "    <tr>\n",
       "      <th>std</th>\n",
       "      <td>NaN</td>\n",
       "      <td>NaN</td>\n",
       "      <td>69.890532</td>\n",
       "    </tr>\n",
       "    <tr>\n",
       "      <th>min</th>\n",
       "      <td>NaN</td>\n",
       "      <td>NaN</td>\n",
       "      <td>9.000000</td>\n",
       "    </tr>\n",
       "    <tr>\n",
       "      <th>25%</th>\n",
       "      <td>NaN</td>\n",
       "      <td>NaN</td>\n",
       "      <td>86.000000</td>\n",
       "    </tr>\n",
       "    <tr>\n",
       "      <th>50%</th>\n",
       "      <td>NaN</td>\n",
       "      <td>NaN</td>\n",
       "      <td>124.000000</td>\n",
       "    </tr>\n",
       "    <tr>\n",
       "      <th>75%</th>\n",
       "      <td>NaN</td>\n",
       "      <td>NaN</td>\n",
       "      <td>195.000000</td>\n",
       "    </tr>\n",
       "    <tr>\n",
       "      <th>max</th>\n",
       "      <td>NaN</td>\n",
       "      <td>NaN</td>\n",
       "      <td>321.000000</td>\n",
       "    </tr>\n",
       "  </tbody>\n",
       "</table>\n",
       "</div>"
      ],
      "text/plain": [
       "         scientific_name                            park_name  observations\n",
       "count              23296                                23296  23296.000000\n",
       "unique              5541                                    4           NaN\n",
       "top     Myotis lucifugus  Great Smoky Mountains National Park           NaN\n",
       "freq                  12                                 5824           NaN\n",
       "mean                 NaN                                  NaN    142.287904\n",
       "std                  NaN                                  NaN     69.890532\n",
       "min                  NaN                                  NaN      9.000000\n",
       "25%                  NaN                                  NaN     86.000000\n",
       "50%                  NaN                                  NaN    124.000000\n",
       "75%                  NaN                                  NaN    195.000000\n",
       "max                  NaN                                  NaN    321.000000"
      ]
     },
     "execution_count": 15,
     "metadata": {},
     "output_type": "execute_result"
    }
   ],
   "source": [
    "# starting exploration of data by looking at summary statistics\n",
    "observations.describe(include = 'all')"
   ]
  },
  {
   "cell_type": "code",
   "execution_count": 14,
   "metadata": {},
   "outputs": [
    {
     "data": {
      "text/html": [
       "<div>\n",
       "<style scoped>\n",
       "    .dataframe tbody tr th:only-of-type {\n",
       "        vertical-align: middle;\n",
       "    }\n",
       "\n",
       "    .dataframe tbody tr th {\n",
       "        vertical-align: top;\n",
       "    }\n",
       "\n",
       "    .dataframe thead th {\n",
       "        text-align: right;\n",
       "    }\n",
       "</style>\n",
       "<table border=\"1\" class=\"dataframe\">\n",
       "  <thead>\n",
       "    <tr style=\"text-align: right;\">\n",
       "      <th></th>\n",
       "      <th>category</th>\n",
       "      <th>scientific_name</th>\n",
       "      <th>common_names</th>\n",
       "      <th>conservation_status</th>\n",
       "    </tr>\n",
       "  </thead>\n",
       "  <tbody>\n",
       "    <tr>\n",
       "      <th>count</th>\n",
       "      <td>5824</td>\n",
       "      <td>5824</td>\n",
       "      <td>5824</td>\n",
       "      <td>191</td>\n",
       "    </tr>\n",
       "    <tr>\n",
       "      <th>unique</th>\n",
       "      <td>7</td>\n",
       "      <td>5541</td>\n",
       "      <td>5504</td>\n",
       "      <td>4</td>\n",
       "    </tr>\n",
       "    <tr>\n",
       "      <th>top</th>\n",
       "      <td>Vascular Plant</td>\n",
       "      <td>Castor canadensis</td>\n",
       "      <td>Brachythecium Moss</td>\n",
       "      <td>Species of Concern</td>\n",
       "    </tr>\n",
       "    <tr>\n",
       "      <th>freq</th>\n",
       "      <td>4470</td>\n",
       "      <td>3</td>\n",
       "      <td>7</td>\n",
       "      <td>161</td>\n",
       "    </tr>\n",
       "  </tbody>\n",
       "</table>\n",
       "</div>"
      ],
      "text/plain": [
       "              category    scientific_name        common_names  \\\n",
       "count             5824               5824                5824   \n",
       "unique               7               5541                5504   \n",
       "top     Vascular Plant  Castor canadensis  Brachythecium Moss   \n",
       "freq              4470                  3                   7   \n",
       "\n",
       "       conservation_status  \n",
       "count                  191  \n",
       "unique                   4  \n",
       "top     Species of Concern  \n",
       "freq                   161  "
      ]
     },
     "execution_count": 14,
     "metadata": {},
     "output_type": "execute_result"
    }
   ],
   "source": [
    "species_info.describe(include = 'all')"
   ]
  },
  {
   "cell_type": "markdown",
   "metadata": {},
   "source": [
    "# Exploratory Data Analysis\n",
    "\n",
    "With the data now loaded, my next step is to explore and become acquainted with the data. After loading the data above, I looked at the first five rows of the data and some of the summary statistics to get an idea of the size and type of data. I will build on that information by looking at additional summary statistics and visually examining my data.\n",
    "\n",
    "Initial questions I have to start the exploration include the following:\n",
    "\n",
    "- What is the distribution of conservation_status for animals?\n",
    "- Are certain types of species more likely to be in an intervention status?\n",
    "- Are the differences between species and their conservation status significant?\n",
    "- Which species were spotted the most at each park?"
   ]
  },
  {
   "cell_type": "code",
   "execution_count": 16,
   "metadata": {},
   "outputs": [
    {
     "data": {
      "text/plain": [
       "NaN                   5633\n",
       "Species of Concern     161\n",
       "Endangered              16\n",
       "Threatened              10\n",
       "In Recovery              4\n",
       "Name: conservation_status, dtype: int64"
      ]
     },
     "execution_count": 16,
     "metadata": {},
     "output_type": "execute_result"
    }
   ],
   "source": [
    "species_info.conservation_status.value_counts(dropna = False)"
   ]
  },
  {
   "cell_type": "markdown",
   "metadata": {},
   "source": [
    "Looking further into the cause of the large number of NaN instances in the conservation status found these details:\n",
    "\n",
    "Definition: 'conservation_status - each species’ current conservation status' \n",
    "\n",
    "From there investigated the status of some of the NaN instances:\n",
    "\n",
    "- American Bison - Near Threatened\n",
    "- Gapper's Red-Backed Vole - Not Threatened\n",
    "- Aurochs, Aurochs, Domestic Cattle (Feral) - Not Threatened\n",
    "- Domestic Sheep, Mouflon, Red Sheep, Sheep (Feral)\t- Not Threatened\n",
    "- Wapiti Or Elk\t- Not Threatened\n",
    "\n",
    "This would indicate that those that are listed in NaN status are species that are not currently under a conservation status or that no current intervention is taking place for these species.\n",
    "\n",
    "This would answer our first exploratory question: \"What is the distribution of conservation_status for animals?\"\n",
    "\n",
    "The answer would be that 191 species currently have a conservation status in these four parks while the vast majority, 5,633, do not have a conservation status."
   ]
  },
  {
   "cell_type": "code",
   "execution_count": 57,
   "metadata": {},
   "outputs": [
    {
     "data": {
      "image/png": "[encoded data removed]",
      "text/plain": [
       "<Figure size 432x288 with 1 Axes>"
      ]
     },
     "metadata": {
      "needs_background": "light"
     },
     "output_type": "display_data"
    },
    {
     "data": {
      "image/png": "[encoded data removed]",
      "text/plain": [
       "<Figure size 432x288 with 1 Axes>"
      ]
     },
     "metadata": {
      "needs_background": "light"
     },
     "output_type": "display_data"
    },
    {
     "data": {
      "image/png": "[encoded data removed]",
      "text/plain": [
       "<Figure size 432x288 with 1 Axes>"
      ]
     },
     "metadata": {
      "needs_background": "light"
     },
     "output_type": "display_data"
    },
    {
     "data": {
      "image/png": "[encoded data removed]",
      "text/plain": [
       "<Figure size 432x288 with 1 Axes>"
      ]
     },
     "metadata": {
      "needs_background": "light"
     },
     "output_type": "display_data"
    },
    {
     "data": {
      "image/png": "[encoded data removed]",
      "text/plain": [
       "<Figure size 432x288 with 1 Axes>"
      ]
     },
     "metadata": {
      "needs_background": "light"
     },
     "output_type": "display_data"
    },
    {
     "data": {
      "text/plain": [
       "<Figure size 432x288 with 0 Axes>"
      ]
     },
     "metadata": {},
     "output_type": "display_data"
    }
   ],
   "source": [
    "sns.countplot(data = species_info, x = 'conservation_status', hue = 'category')\n",
    "plt.legend(loc = 'upper right')\n",
    "plt.show()\n",
    "plt.clf()\n",
    "\n",
    "\n",
    "for status in species_info.conservation_status.unique():\n",
    "    if status is species_info.conservation_status.unique()[0]:\n",
    "        continue\n",
    "    else:\n",
    "        sns.countplot(data = species_info, x = species_info.conservation_status[species_info.conservation_status == status], hue = 'category')\n",
    "        plt.title(status)\n",
    "        plt.legend(loc = 'upper center')\n",
    "        plt.show()\n",
    "        plt.clf()\n",
    "        \n",
    "# will need to fix the legend by plotting the specific countplot if presenting the information, but for my internal exploration iterating through the list was more efficient\n"
   ]
  },
  {
   "cell_type": "code",
   "execution_count": 68,
   "metadata": {},
   "outputs": [
    {
     "name": "stdout",
     "output_type": "stream",
     "text": [
      "Full Count\n",
      "Vascular Plant       4470\n",
      "Bird                  521\n",
      "Nonvascular Plant     333\n",
      "Mammal                214\n",
      "Fish                  127\n",
      "Amphibian              80\n",
      "Reptile                79\n",
      "Name: category, dtype: int64\n",
      "nan\n",
      "Series([], Name: category, dtype: int64)\n",
      "Species of Concern\n",
      "Bird                 72\n",
      "Vascular Plant       43\n",
      "Mammal               28\n",
      "Reptile               5\n",
      "Nonvascular Plant     5\n",
      "Amphibian             4\n",
      "Fish                  4\n",
      "Name: category, dtype: int64\n",
      "Endangered\n",
      "Mammal            7\n",
      "Bird              4\n",
      "Fish              3\n",
      "Vascular Plant    1\n",
      "Amphibian         1\n",
      "Name: category, dtype: int64\n",
      "Threatened\n",
      "Fish              4\n",
      "Mammal            2\n",
      "Vascular Plant    2\n",
      "Amphibian         2\n",
      "Name: category, dtype: int64\n",
      "In Recovery\n",
      "Bird      3\n",
      "Mammal    1\n",
      "Name: category, dtype: int64\n"
     ]
    }
   ],
   "source": [
    "print('Full Count')\n",
    "print(species_info.category.value_counts())\n",
    "for status in species_info.conservation_status.unique():  \n",
    "    print(status)\n",
    "    print(species_info.category[species_info.conservation_status == status].value_counts())"
   ]
  },
  {
   "cell_type": "code",
   "execution_count": 76,
   "metadata": {},
   "outputs": [
    {
     "data": {
      "text/plain": [
       "Vascular Plant       4470\n",
       "Bird                  521\n",
       "Nonvascular Plant     333\n",
       "Mammal                214\n",
       "Fish                  127\n",
       "Amphibian              80\n",
       "Reptile                79\n",
       "Name: category, dtype: int64"
      ]
     },
     "execution_count": 76,
     "metadata": {},
     "output_type": "execute_result"
    }
   ],
   "source": [
    "species_info.category.value_counts()"
   ]
  },
  {
   "cell_type": "code",
   "execution_count": 77,
   "metadata": {},
   "outputs": [],
   "source": [
    "categories = ['Vascular Plant', 'Bird', 'Nonvascular Plant', 'Mammal', 'Fish', 'Amphibian', 'Reptile']\n",
    "statuses = ['Species of Concern', 'Endangered', 'Threatened', 'In Recovery']\n",
    "vascular_plant = [43, 1, 2, 0]\n",
    "bird = [72, 4, 0, 3]\n",
    "nonvascular_plant = [5, 0, 0, 0]\n",
    "mammal = [28, 7, 2, 1]\n",
    "fish = [4, 3, 4, 0]\n",
    "amphibian = [4, 1, 2, 0]\n",
    "reptile = [5, 0, 0, 0]\n",
    "\n",
    "species_of_concern = [43, 72, 5, 28, 4, 4, 5]\n",
    "endangered = [1, 4, 0, 7, 3, 1, 0]\n",
    "threatened = [2, 0, 0, 2, 4, 2, 0]\n",
    "in_recovery = [0, 3, 0, 1, 0, 0, 0]"
   ]
  },
  {
   "cell_type": "code",
   "execution_count": 82,
   "metadata": {},
   "outputs": [
    {
     "data": {
      "image/png": "[encoded data removed]",
      "text/plain": [
       "<Figure size 432x288 with 1 Axes>"
      ]
     },
     "metadata": {
      "needs_background": "light"
     },
     "output_type": "display_data"
    }
   ],
   "source": [
    "# create bottoms for the stacked bar\n",
    "threatened_bottom = np.add(species_of_concern, endangered)\n",
    "in_recovery_bottom = np.add(threatened_bottom, threatened)\n",
    "\n",
    "# create plot here\n",
    "xaxis = range(len(species_of_concern))\n",
    "plt.bar(xaxis, species_of_concern)\n",
    "plt.bar(xaxis, endangered, bottom = species_of_concern)\n",
    "plt.bar(xaxis, threatened, bottom = threatened_bottom)\n",
    "plt.bar(xaxis, in_recovery, bottom = in_recovery_bottom)\n",
    "plt.xticks(rotation = 30)\n",
    "ax = plt.subplot()\n",
    "ax.set_xticks(range(len(categories)))\n",
    "ax.set_xticklabels(categories)\n",
    "plt.title('At Risk Species')\n",
    "plt.xlabel('Species')\n",
    "plt.ylabel('Number at Risk')\n",
    "plt.legend(statuses)\n",
    "plt.show()"
   ]
  },
  {
   "cell_type": "code",
   "execution_count": 102,
   "metadata": {},
   "outputs": [
    {
     "data": {
      "image/png": "[encoded data removed]",
      "text/plain": [
       "<Figure size 432x288 with 1 Axes>"
      ]
     },
     "metadata": {},
     "output_type": "display_data"
    },
    {
     "data": {
      "image/png": "[encoded data removed]",
      "text/plain": [
       "<Figure size 432x288 with 1 Axes>"
      ]
     },
     "metadata": {},
     "output_type": "display_data"
    },
    {
     "data": {
      "image/png": "[encoded data removed]",
      "text/plain": [
       "<Figure size 432x288 with 1 Axes>"
      ]
     },
     "metadata": {},
     "output_type": "display_data"
    },
    {
     "data": {
      "image/png": "[encoded data removed]",
      "text/plain": [
       "<Figure size 432x288 with 1 Axes>"
      ]
     },
     "metadata": {},
     "output_type": "display_data"
    },
    {
     "data": {
      "image/png": "[encoded data removed]",
      "text/plain": [
       "<Figure size 432x288 with 1 Axes>"
      ]
     },
     "metadata": {},
     "output_type": "display_data"
    },
    {
     "data": {
      "image/png": "[encoded data removed]",
      "text/plain": [
       "<Figure size 432x288 with 1 Axes>"
      ]
     },
     "metadata": {},
     "output_type": "display_data"
    },
    {
     "data": {
      "image/png": "[encoded data removed]",
      "text/plain": [
       "<Figure size 432x288 with 1 Axes>"
      ]
     },
     "metadata": {},
     "output_type": "display_data"
    },
    {
     "data": {
      "text/plain": [
       "<Figure size 432x288 with 0 Axes>"
      ]
     },
     "metadata": {},
     "output_type": "display_data"
    }
   ],
   "source": [
    "statuses_wn = ['No Intervention', 'Intervention']\n",
    "vascular_plant_wn = [4424, 46]\n",
    "bird_wn = [442, 79]\n",
    "nonvascular_plant_wn = [328, 5]\n",
    "mammal_wn = [176, 38]\n",
    "fish_wn = [116, 11]\n",
    "amphibian_wn = [73, 7]\n",
    "reptile_wn = [74, 5]\n",
    "\n",
    "\n",
    "# Create a pieplot\n",
    "plt.pie(vascular_plant_wn, labels = statuses_wn, autopct = '%0.1d%%')\n",
    "plt.title('Intervention vs Non-Intervention for Vascular Plants')\n",
    "\n",
    "# add a circle at the center to transform it into a donut chart\n",
    "my_circle=plt.Circle( (0,0), 0.7, color='white')\n",
    "p=plt.gcf()\n",
    "p.gca().add_artist(my_circle)\n",
    "\n",
    "plt.show()\n",
    "plt.clf()\n",
    "\n",
    "# Create a pieplot\n",
    "plt.pie(bird_wn, labels = statuses_wn, autopct = '%0.1d%%')\n",
    "plt.title('Intervention vs Non-Intervention for Birds')\n",
    "\n",
    "# add a circle at the center to transform it into a donut chart\n",
    "my_circle=plt.Circle( (0,0), 0.7, color='white')\n",
    "p=plt.gcf()\n",
    "p.gca().add_artist(my_circle)\n",
    "\n",
    "plt.show()\n",
    "plt.clf()\n",
    "\n",
    "# Create a pieplot\n",
    "plt.pie(nonvascular_plant_wn, labels = statuses_wn, autopct = '%0.1d%%')\n",
    "plt.title('Intervention vs Non-Intervention for Nonvascular Plants')\n",
    "\n",
    "# add a circle at the center to transform it into a donut chart\n",
    "my_circle=plt.Circle( (0,0), 0.7, color='white')\n",
    "p=plt.gcf()\n",
    "p.gca().add_artist(my_circle)\n",
    "\n",
    "plt.show()\n",
    "plt.clf()\n",
    "\n",
    "# Create a pieplot\n",
    "plt.pie(mammal_wn, labels = statuses_wn, autopct = '%0.1d%%')\n",
    "plt.title('Intervention vs Non-Intervention for Mammals')\n",
    "\n",
    "# add a circle at the center to transform it into a donut chart\n",
    "my_circle=plt.Circle( (0,0), 0.7, color='white')\n",
    "p=plt.gcf()\n",
    "p.gca().add_artist(my_circle)\n",
    "\n",
    "plt.show()\n",
    "plt.clf()\n",
    "\n",
    "# Create a pieplot\n",
    "plt.pie(fish_wn, labels = statuses_wn, autopct = '%0.1d%%')\n",
    "plt.title('Intervention vs Non-Intervention for Fish')\n",
    "\n",
    "# add a circle at the center to transform it into a donut chart\n",
    "my_circle=plt.Circle( (0,0), 0.7, color='white')\n",
    "p=plt.gcf()\n",
    "p.gca().add_artist(my_circle)\n",
    "\n",
    "plt.show()\n",
    "plt.clf()\n",
    "\n",
    "# Create a pieplot\n",
    "plt.pie(amphibian_wn, labels = statuses_wn, autopct = '%0.1d%%')\n",
    "plt.title('Intervention vs Non-Intervention for Amphibians')\n",
    "\n",
    "# add a circle at the center to transform it into a donut chart\n",
    "my_circle=plt.Circle( (0,0), 0.7, color='white')\n",
    "p=plt.gcf()\n",
    "p.gca().add_artist(my_circle)\n",
    "\n",
    "plt.show()\n",
    "plt.clf()\n",
    "\n",
    "# Create a pieplot\n",
    "plt.pie(reptile_wn, labels = statuses_wn, autopct = '%0.1d%%')\n",
    "plt.title('Intervention vs Non-Intervention for Reptiles')\n",
    "\n",
    "# add a circle at the center to transform it into a donut chart\n",
    "my_circle=plt.Circle( (0,0), 0.7, color='white')\n",
    "p=plt.gcf()\n",
    "p.gca().add_artist(my_circle)\n",
    "\n",
    "plt.show()\n",
    "plt.clf()\n",
    "\n",
    "\n"
   ]
  },
  {
   "cell_type": "markdown",
   "metadata": {},
   "source": [
    "Second Question: Are certain types of species more likely to be in an intervention status?\n",
    "\n",
    "The above value counts, bar plots, count plots and donut plots help us to answer the question regarding the likelihood of a particular species being in an intervention status.\n",
    "\n",
    "Species Observed: \n",
    "- Vascular Plants\n",
    "- Birds\n",
    "- Nonvascular Plants\n",
    "- Mammals\n",
    "- Fish\n",
    "- Amphibians\n",
    "- Reptiles\n",
    "\n",
    "Based on the value counts and bar plots, the first instinct for the species most likely to be in an intervention status would be, in order:  bird, vascular plant and then mammal. These three have the highest overall counts with 79, 46 and 38. However, as I noticed the very different totals in the total value counts, I felt it would be beneficial to additionally see the percentage of a species in intervention status.\n",
    "\n",
    "The donut charts showed that due to the large number of vascular plants in the four parks as a whole, the number of intervention status vascular plants only made up 1% of their total. By percentage, the species with the highest likelihood of being in an intervention status would be mammal at 17%, the bird at 15% and the fish and amphibian both at 8%.\n",
    "\n",
    "The combination the stacked bar and donut chart would point to the need to investigate the mammal and the bird more closely for why they are more likely to be in an intervention status. The mammal would be the top concern as they have both a higher proportion in intervention status along with having the highest pure count of any species in the more serious intervention statuses of endangered, threatened and in recovery."
   ]
  },
  {
   "cell_type": "code",
   "execution_count": 110,
   "metadata": {},
   "outputs": [
    {
     "data": {
      "text/plain": [
       "(0.5810483277947567,\n",
       " 0.445901703047197,\n",
       " 1,\n",
       " array([[ 34.06530612, 179.93469388],\n",
       "        [ 82.93469388, 438.06530612]]))"
      ]
     },
     "execution_count": 110,
     "metadata": {},
     "output_type": "execute_result"
    }
   ],
   "source": [
    "mammal_bird_contingency = [[38, 176],\n",
    "              [79, 442]]\n",
    "chi2_contingency(mammal_bird_contingency)"
   ]
  },
  {
   "cell_type": "code",
   "execution_count": 111,
   "metadata": {},
   "outputs": [
    {
     "data": {
      "text/plain": [
       "(5.139702724228909,\n",
       " 0.02338465214871547,\n",
       " 1,\n",
       " array([[ 31.40614334, 182.59385666],\n",
       "        [ 11.59385666,  67.40614334]]))"
      ]
     },
     "execution_count": 111,
     "metadata": {},
     "output_type": "execute_result"
    }
   ],
   "source": [
    "mammal_reptile_contingency = [[38, 176],\n",
    "               [5, 74]]\n",
    "chi2_contingency(mammal_reptile_contingency)"
   ]
  },
  {
   "cell_type": "code",
   "execution_count": 112,
   "metadata": {},
   "outputs": [
    {
     "data": {
      "text/plain": [
       "(3.7429112721357165,\n",
       " 0.05303196986912507,\n",
       " 1,\n",
       " array([[ 11.06,  67.94],\n",
       "        [ 72.94, 448.06]]))"
      ]
     },
     "execution_count": 112,
     "metadata": {},
     "output_type": "execute_result"
    }
   ],
   "source": [
    "reptile_bird_contingency = [[5, 74],\n",
    "              [79, 442]]\n",
    "chi2_contingency(reptile_bird_contingency)"
   ]
  },
  {
   "cell_type": "code",
   "execution_count": 113,
   "metadata": {},
   "outputs": [
    {
     "data": {
      "text/plain": [
       "(0.2854762603535055,\n",
       " 0.5931341408785127,\n",
       " 1,\n",
       " array([[3.53591505e+00, 3.29464085e+02],\n",
       "        [4.74640849e+01, 4.42253592e+03]]))"
      ]
     },
     "execution_count": 113,
     "metadata": {},
     "output_type": "execute_result"
    }
   ],
   "source": [
    "nonvplants_vplants_contingency = [[5, 328],\n",
    "              [46, 4424]]\n",
    "chi2_contingency(nonvplants_vplants_contingency)"
   ]
  },
  {
   "cell_type": "code",
   "execution_count": 114,
   "metadata": {},
   "outputs": [
    {
     "data": {
      "text/plain": [
       "(0.07704707278481003,\n",
       " 0.7813397425469251,\n",
       " 1,\n",
       " array([[ 6.03773585, 73.96226415],\n",
       "        [ 5.96226415, 73.03773585]]))"
      ]
     },
     "execution_count": 114,
     "metadata": {},
     "output_type": "execute_result"
    }
   ],
   "source": [
    "amphibian_reptile_contingency = [[7, 73],\n",
    "              [5, 74]]\n",
    "chi2_contingency(amphibian_reptile_contingency)"
   ]
  },
  {
   "cell_type": "code",
   "execution_count": 116,
   "metadata": {},
   "outputs": [
    {
     "data": {
      "text/plain": [
       "(0.07704707278481003,\n",
       " 0.7813397425469251,\n",
       " 1,\n",
       " array([[ 6.03773585, 73.96226415],\n",
       "        [ 5.96226415, 73.03773585]]))"
      ]
     },
     "execution_count": 116,
     "metadata": {},
     "output_type": "execute_result"
    }
   ],
   "source": [
    "amphibian_fish_contingency = [[7, 73],\n",
    "              [11, 116]]\n",
    "chi2_contingency(amphibian_reptile_contingency)"
   ]
  },
  {
   "cell_type": "markdown",
   "metadata": {},
   "source": [
    "Are the differences between species and their conservation status significant?\n",
    "\n",
    "Using the chi2_contingency test, I found the p-value comparing two species at a time. Of the tests run, and with a 5% / 0.05 confidence threshold, I found that amphibian and fish, amphibian and reptile, nonvascular and vascular plants, , reptile and bird and mammal and bird all do not have a statistical significant pairing. The only found significance was the mammal and reptile with the mammal having a significantly significant higher chance of having a conservation status."
   ]
  },
  {
   "cell_type": "code",
   "execution_count": 117,
   "metadata": {},
   "outputs": [
    {
     "data": {
      "text/plain": [
       "array(['Great Smoky Mountains National Park', 'Yosemite National Park',\n",
       "       'Bryce National Park', 'Yellowstone National Park'], dtype=object)"
      ]
     },
     "execution_count": 117,
     "metadata": {},
     "output_type": "execute_result"
    }
   ],
   "source": [
    "# find the different parks represented\n",
    "observations.park_name.unique()"
   ]
  },
  {
   "cell_type": "code",
   "execution_count": 122,
   "metadata": {},
   "outputs": [
    {
     "data": {
      "text/plain": [
       "147"
      ]
     },
     "execution_count": 122,
     "metadata": {},
     "output_type": "execute_result"
    }
   ],
   "source": [
    "# max at Great Smoky Mountains National Park\n",
    "observations[observations.park_name == 'Great Smoky Mountains National Park'].observations.max()"
   ]
  },
  {
   "cell_type": "code",
   "execution_count": 124,
   "metadata": {},
   "outputs": [
    {
     "data": {
      "text/plain": [
       "223"
      ]
     },
     "execution_count": 124,
     "metadata": {},
     "output_type": "execute_result"
    }
   ],
   "source": [
    "# max at Yosemite National Park\n",
    "observations[observations.park_name == 'Yosemite National Park'].observations.max()"
   ]
  },
  {
   "cell_type": "code",
   "execution_count": 125,
   "metadata": {},
   "outputs": [
    {
     "data": {
      "text/plain": [
       "176"
      ]
     },
     "execution_count": 125,
     "metadata": {},
     "output_type": "execute_result"
    }
   ],
   "source": [
    "# max at Bryce National Park\n",
    "observations[observations.park_name == 'Bryce National Park'].observations.max()"
   ]
  },
  {
   "cell_type": "code",
   "execution_count": 126,
   "metadata": {},
   "outputs": [
    {
     "data": {
      "text/plain": [
       "321"
      ]
     },
     "execution_count": 126,
     "metadata": {},
     "output_type": "execute_result"
    }
   ],
   "source": [
    "# max at Yellowstone National Park\n",
    "observations[observations.park_name == 'Yellowstone National Park'].observations.max()"
   ]
  },
  {
   "cell_type": "code",
   "execution_count": 129,
   "metadata": {},
   "outputs": [
    {
     "name": "stderr",
     "output_type": "stream",
     "text": [
      "C:\\Users\\dtta2\\AppData\\Local\\Temp/ipykernel_19096/236560202.py:1: UserWarning: Boolean Series key will be reindexed to match DataFrame index.\n",
      "  observations[observations.observations == 147][observations.park_name == 'Great Smoky Mountains National Park']\n"
     ]
    },
    {
     "data": {
      "text/html": [
       "<div>\n",
       "<style scoped>\n",
       "    .dataframe tbody tr th:only-of-type {\n",
       "        vertical-align: middle;\n",
       "    }\n",
       "\n",
       "    .dataframe tbody tr th {\n",
       "        vertical-align: top;\n",
       "    }\n",
       "\n",
       "    .dataframe thead th {\n",
       "        text-align: right;\n",
       "    }\n",
       "</style>\n",
       "<table border=\"1\" class=\"dataframe\">\n",
       "  <thead>\n",
       "    <tr style=\"text-align: right;\">\n",
       "      <th></th>\n",
       "      <th>scientific_name</th>\n",
       "      <th>park_name</th>\n",
       "      <th>observations</th>\n",
       "    </tr>\n",
       "  </thead>\n",
       "  <tbody>\n",
       "    <tr>\n",
       "      <th>8840</th>\n",
       "      <td>Sonchus asper ssp. asper</td>\n",
       "      <td>Great Smoky Mountains National Park</td>\n",
       "      <td>147</td>\n",
       "    </tr>\n",
       "  </tbody>\n",
       "</table>\n",
       "</div>"
      ],
      "text/plain": [
       "               scientific_name                            park_name  \\\n",
       "8840  Sonchus asper ssp. asper  Great Smoky Mountains National Park   \n",
       "\n",
       "      observations  \n",
       "8840           147  "
      ]
     },
     "execution_count": 129,
     "metadata": {},
     "output_type": "execute_result"
    }
   ],
   "source": [
    "observations[observations.observations == 147][observations.park_name == 'Great Smoky Mountains National Park']"
   ]
  },
  {
   "cell_type": "code",
   "execution_count": 130,
   "metadata": {},
   "outputs": [
    {
     "name": "stderr",
     "output_type": "stream",
     "text": [
      "C:\\Users\\dtta2\\AppData\\Local\\Temp/ipykernel_19096/4138698019.py:1: UserWarning: Boolean Series key will be reindexed to match DataFrame index.\n",
      "  observations[observations.observations == 223][observations.park_name == 'Yosemite National Park']\n"
     ]
    },
    {
     "data": {
      "text/html": [
       "<div>\n",
       "<style scoped>\n",
       "    .dataframe tbody tr th:only-of-type {\n",
       "        vertical-align: middle;\n",
       "    }\n",
       "\n",
       "    .dataframe tbody tr th {\n",
       "        vertical-align: top;\n",
       "    }\n",
       "\n",
       "    .dataframe thead th {\n",
       "        text-align: right;\n",
       "    }\n",
       "</style>\n",
       "<table border=\"1\" class=\"dataframe\">\n",
       "  <thead>\n",
       "    <tr style=\"text-align: right;\">\n",
       "      <th></th>\n",
       "      <th>scientific_name</th>\n",
       "      <th>park_name</th>\n",
       "      <th>observations</th>\n",
       "    </tr>\n",
       "  </thead>\n",
       "  <tbody>\n",
       "    <tr>\n",
       "      <th>6682</th>\n",
       "      <td>Ivesia shockleyi var. shockleyi</td>\n",
       "      <td>Yosemite National Park</td>\n",
       "      <td>223</td>\n",
       "    </tr>\n",
       "  </tbody>\n",
       "</table>\n",
       "</div>"
      ],
      "text/plain": [
       "                      scientific_name               park_name  observations\n",
       "6682  Ivesia shockleyi var. shockleyi  Yosemite National Park           223"
      ]
     },
     "execution_count": 130,
     "metadata": {},
     "output_type": "execute_result"
    }
   ],
   "source": [
    "observations[observations.observations == 223][observations.park_name == 'Yosemite National Park']"
   ]
  },
  {
   "cell_type": "code",
   "execution_count": 131,
   "metadata": {},
   "outputs": [
    {
     "name": "stderr",
     "output_type": "stream",
     "text": [
      "C:\\Users\\dtta2\\AppData\\Local\\Temp/ipykernel_19096/3761882468.py:1: UserWarning: Boolean Series key will be reindexed to match DataFrame index.\n",
      "  observations[observations.observations == 176][observations.park_name == 'Bryce National Park']\n"
     ]
    },
    {
     "data": {
      "text/html": [
       "<div>\n",
       "<style scoped>\n",
       "    .dataframe tbody tr th:only-of-type {\n",
       "        vertical-align: middle;\n",
       "    }\n",
       "\n",
       "    .dataframe tbody tr th {\n",
       "        vertical-align: top;\n",
       "    }\n",
       "\n",
       "    .dataframe thead th {\n",
       "        text-align: right;\n",
       "    }\n",
       "</style>\n",
       "<table border=\"1\" class=\"dataframe\">\n",
       "  <thead>\n",
       "    <tr style=\"text-align: right;\">\n",
       "      <th></th>\n",
       "      <th>scientific_name</th>\n",
       "      <th>park_name</th>\n",
       "      <th>observations</th>\n",
       "    </tr>\n",
       "  </thead>\n",
       "  <tbody>\n",
       "    <tr>\n",
       "      <th>13138</th>\n",
       "      <td>Valerianella radiata</td>\n",
       "      <td>Bryce National Park</td>\n",
       "      <td>176</td>\n",
       "    </tr>\n",
       "  </tbody>\n",
       "</table>\n",
       "</div>"
      ],
      "text/plain": [
       "            scientific_name            park_name  observations\n",
       "13138  Valerianella radiata  Bryce National Park           176"
      ]
     },
     "execution_count": 131,
     "metadata": {},
     "output_type": "execute_result"
    }
   ],
   "source": [
    "observations[observations.observations == 176][observations.park_name == 'Bryce National Park']"
   ]
  },
  {
   "cell_type": "code",
   "execution_count": 132,
   "metadata": {},
   "outputs": [
    {
     "name": "stderr",
     "output_type": "stream",
     "text": [
      "C:\\Users\\dtta2\\AppData\\Local\\Temp/ipykernel_19096/2248113004.py:1: UserWarning: Boolean Series key will be reindexed to match DataFrame index.\n",
      "  observations[observations.observations == 321][observations.park_name == 'Yellowstone National Park']\n"
     ]
    },
    {
     "data": {
      "text/html": [
       "<div>\n",
       "<style scoped>\n",
       "    .dataframe tbody tr th:only-of-type {\n",
       "        vertical-align: middle;\n",
       "    }\n",
       "\n",
       "    .dataframe tbody tr th {\n",
       "        vertical-align: top;\n",
       "    }\n",
       "\n",
       "    .dataframe thead th {\n",
       "        text-align: right;\n",
       "    }\n",
       "</style>\n",
       "<table border=\"1\" class=\"dataframe\">\n",
       "  <thead>\n",
       "    <tr style=\"text-align: right;\">\n",
       "      <th></th>\n",
       "      <th>scientific_name</th>\n",
       "      <th>park_name</th>\n",
       "      <th>observations</th>\n",
       "    </tr>\n",
       "  </thead>\n",
       "  <tbody>\n",
       "    <tr>\n",
       "      <th>11281</th>\n",
       "      <td>Lycopodium tristachyum</td>\n",
       "      <td>Yellowstone National Park</td>\n",
       "      <td>321</td>\n",
       "    </tr>\n",
       "  </tbody>\n",
       "</table>\n",
       "</div>"
      ],
      "text/plain": [
       "              scientific_name                  park_name  observations\n",
       "11281  Lycopodium tristachyum  Yellowstone National Park           321"
      ]
     },
     "execution_count": 132,
     "metadata": {},
     "output_type": "execute_result"
    }
   ],
   "source": [
    "observations[observations.observations == 321][observations.park_name == 'Yellowstone National Park']"
   ]
  },
  {
   "cell_type": "code",
   "execution_count": 135,
   "metadata": {},
   "outputs": [
    {
     "data": {
      "text/html": [
       "<div>\n",
       "<style scoped>\n",
       "    .dataframe tbody tr th:only-of-type {\n",
       "        vertical-align: middle;\n",
       "    }\n",
       "\n",
       "    .dataframe tbody tr th {\n",
       "        vertical-align: top;\n",
       "    }\n",
       "\n",
       "    .dataframe thead th {\n",
       "        text-align: right;\n",
       "    }\n",
       "</style>\n",
       "<table border=\"1\" class=\"dataframe\">\n",
       "  <thead>\n",
       "    <tr style=\"text-align: right;\">\n",
       "      <th></th>\n",
       "      <th>category</th>\n",
       "      <th>scientific_name</th>\n",
       "      <th>common_names</th>\n",
       "      <th>conservation_status</th>\n",
       "    </tr>\n",
       "  </thead>\n",
       "  <tbody>\n",
       "    <tr>\n",
       "      <th>4840</th>\n",
       "      <td>Vascular Plant</td>\n",
       "      <td>Sonchus asper ssp. asper</td>\n",
       "      <td>Spiny Sowthistle</td>\n",
       "      <td>NaN</td>\n",
       "    </tr>\n",
       "  </tbody>\n",
       "</table>\n",
       "</div>"
      ],
      "text/plain": [
       "            category           scientific_name      common_names  \\\n",
       "4840  Vascular Plant  Sonchus asper ssp. asper  Spiny Sowthistle   \n",
       "\n",
       "     conservation_status  \n",
       "4840                 NaN  "
      ]
     },
     "execution_count": 135,
     "metadata": {},
     "output_type": "execute_result"
    }
   ],
   "source": [
    "# finding the common name and category for the highest observed at Great Smoky Mountain National Park\n",
    "species_info[species_info.scientific_name == 'Sonchus asper ssp. asper']"
   ]
  },
  {
   "cell_type": "code",
   "execution_count": 136,
   "metadata": {},
   "outputs": [
    {
     "data": {
      "text/html": [
       "<div>\n",
       "<style scoped>\n",
       "    .dataframe tbody tr th:only-of-type {\n",
       "        vertical-align: middle;\n",
       "    }\n",
       "\n",
       "    .dataframe tbody tr th {\n",
       "        vertical-align: top;\n",
       "    }\n",
       "\n",
       "    .dataframe thead th {\n",
       "        text-align: right;\n",
       "    }\n",
       "</style>\n",
       "<table border=\"1\" class=\"dataframe\">\n",
       "  <thead>\n",
       "    <tr style=\"text-align: right;\">\n",
       "      <th></th>\n",
       "      <th>category</th>\n",
       "      <th>scientific_name</th>\n",
       "      <th>common_names</th>\n",
       "      <th>conservation_status</th>\n",
       "    </tr>\n",
       "  </thead>\n",
       "  <tbody>\n",
       "    <tr>\n",
       "      <th>5728</th>\n",
       "      <td>Vascular Plant</td>\n",
       "      <td>Ivesia shockleyi var. shockleyi</td>\n",
       "      <td>Shockley's Ivesia, Sky Mousetail</td>\n",
       "      <td>NaN</td>\n",
       "    </tr>\n",
       "  </tbody>\n",
       "</table>\n",
       "</div>"
      ],
      "text/plain": [
       "            category                  scientific_name  \\\n",
       "5728  Vascular Plant  Ivesia shockleyi var. shockleyi   \n",
       "\n",
       "                          common_names conservation_status  \n",
       "5728  Shockley's Ivesia, Sky Mousetail                 NaN  "
      ]
     },
     "execution_count": 136,
     "metadata": {},
     "output_type": "execute_result"
    }
   ],
   "source": [
    "# finding the common name and category for the highest observed at Yosemite National Park\n",
    "species_info[species_info.scientific_name == 'Ivesia shockleyi var. shockleyi']"
   ]
  },
  {
   "cell_type": "code",
   "execution_count": 137,
   "metadata": {},
   "outputs": [
    {
     "data": {
      "text/html": [
       "<div>\n",
       "<style scoped>\n",
       "    .dataframe tbody tr th:only-of-type {\n",
       "        vertical-align: middle;\n",
       "    }\n",
       "\n",
       "    .dataframe tbody tr th {\n",
       "        vertical-align: top;\n",
       "    }\n",
       "\n",
       "    .dataframe thead th {\n",
       "        text-align: right;\n",
       "    }\n",
       "</style>\n",
       "<table border=\"1\" class=\"dataframe\">\n",
       "  <thead>\n",
       "    <tr style=\"text-align: right;\">\n",
       "      <th></th>\n",
       "      <th>category</th>\n",
       "      <th>scientific_name</th>\n",
       "      <th>common_names</th>\n",
       "      <th>conservation_status</th>\n",
       "    </tr>\n",
       "  </thead>\n",
       "  <tbody>\n",
       "    <tr>\n",
       "      <th>1228</th>\n",
       "      <td>Vascular Plant</td>\n",
       "      <td>Valerianella radiata</td>\n",
       "      <td>Beaked Corn-Salad, Corn Salad</td>\n",
       "      <td>NaN</td>\n",
       "    </tr>\n",
       "  </tbody>\n",
       "</table>\n",
       "</div>"
      ],
      "text/plain": [
       "            category       scientific_name                   common_names  \\\n",
       "1228  Vascular Plant  Valerianella radiata  Beaked Corn-Salad, Corn Salad   \n",
       "\n",
       "     conservation_status  \n",
       "1228                 NaN  "
      ]
     },
     "execution_count": 137,
     "metadata": {},
     "output_type": "execute_result"
    }
   ],
   "source": [
    "# finding the common name and category for the highest observed at Bryce National Park\n",
    "species_info[species_info.scientific_name == 'Valerianella radiata']"
   ]
  },
  {
   "cell_type": "code",
   "execution_count": 138,
   "metadata": {},
   "outputs": [
    {
     "data": {
      "text/html": [
       "<div>\n",
       "<style scoped>\n",
       "    .dataframe tbody tr th:only-of-type {\n",
       "        vertical-align: middle;\n",
       "    }\n",
       "\n",
       "    .dataframe tbody tr th {\n",
       "        vertical-align: top;\n",
       "    }\n",
       "\n",
       "    .dataframe thead th {\n",
       "        text-align: right;\n",
       "    }\n",
       "</style>\n",
       "<table border=\"1\" class=\"dataframe\">\n",
       "  <thead>\n",
       "    <tr style=\"text-align: right;\">\n",
       "      <th></th>\n",
       "      <th>category</th>\n",
       "      <th>scientific_name</th>\n",
       "      <th>common_names</th>\n",
       "      <th>conservation_status</th>\n",
       "    </tr>\n",
       "  </thead>\n",
       "  <tbody>\n",
       "    <tr>\n",
       "      <th>1760</th>\n",
       "      <td>Vascular Plant</td>\n",
       "      <td>Lycopodium tristachyum</td>\n",
       "      <td>Deep-Root Clubmoss, Ground Cedar</td>\n",
       "      <td>NaN</td>\n",
       "    </tr>\n",
       "  </tbody>\n",
       "</table>\n",
       "</div>"
      ],
      "text/plain": [
       "            category         scientific_name  \\\n",
       "1760  Vascular Plant  Lycopodium tristachyum   \n",
       "\n",
       "                          common_names conservation_status  \n",
       "1760  Deep-Root Clubmoss, Ground Cedar                 NaN  "
      ]
     },
     "execution_count": 138,
     "metadata": {},
     "output_type": "execute_result"
    }
   ],
   "source": [
    "# finding the common name and category for the highest observed at Yellowstone National Park\n",
    "species_info[species_info.scientific_name == 'Lycopodium tristachyum']"
   ]
  },
  {
   "cell_type": "markdown",
   "metadata": {},
   "source": [
    "Which species were spotted the most at each park?\n",
    "\n",
    "The vascular plant, Spiny Sowthistle, was the most observed species at the Great Smoky National Park.\n",
    "\n",
    "The vascular plant, Shockley's Ivesia or Sky Mousetail, was the most observed species at the Yosemite National Park.\n",
    "\n",
    "The vascular plant, Beaked Corn Salad, was the most observed species at the Bryce National Park.\n",
    "\n",
    "The vascular plant, Deep-Root Clubmoss or Ground Cedar, was the most observed species at the Yellowstone National Park."
   ]
  },
  {
   "cell_type": "markdown",
   "metadata": {},
   "source": [
    "# Conclusions / Answers to Questions Posed\n",
    "\n",
    "What is the distribution of conservation_status for animals?\n",
    "- 5,633 species of animals are not in an intervention state and 191 species of animals are in an intervention state. This makes the vast majority of animals in a non-intervention state.\n",
    "Are certain types of species more likely to be in an intervention status?\n",
    "- Birds have the highest count in an intervention status while mammals and birds have the highest percent of their species in an intervention status.\n",
    "Are the differences between species and their conservation status significant?\n",
    "- There is not a significant difference for most of the species observed in the dataset. However, mammals are significantly more likely to be in a conservation status than reptiles.\n",
    "Which species were spotted the most at each park?\n",
    "- The study found that the Deep-Root Clubmoss, aka the Ground Cedar, was the species that was most spotted overall and at Yellowstone. The Beaked Corn Salad was most spotted at the Bryce National Park. The Shockley's Ivesia, aka Sky Mousetail, was the most spotted at the Yosemite National Park. The Spiny Sowthistle was the most observed species at the Great Smoky National Park."
   ]
  },
  {
   "cell_type": "code",
   "execution_count": null,
   "metadata": {},
   "outputs": [],
   "source": []
  }
 ],
 "metadata": {
  "kernelspec": {
   "display_name": "Python 3 (ipykernel)",
   "language": "python",
   "name": "python3"
  },
  "language_info": {
   "codemirror_mode": {
    "name": "ipython",
    "version": 3
   },
   "file_extension": ".py",
   "mimetype": "text/x-python",
   "name": "python",
   "nbconvert_exporter": "python",
   "pygments_lexer": "ipython3",
   "version": "3.9.7"
  }
 },
 "nbformat": 4,
 "nbformat_minor": 4
}
